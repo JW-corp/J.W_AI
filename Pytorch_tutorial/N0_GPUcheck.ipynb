{
 "cells": [
  {
   "cell_type": "code",
   "execution_count": 1,
   "id": "f1c5fe76-39a7-438d-b488-997aeb14f24e",
   "metadata": {},
   "outputs": [],
   "source": [
    "import torch"
   ]
  },
  {
   "cell_type": "code",
   "execution_count": 12,
   "id": "d85f89b4-8891-4091-a840-15d79cbc0de6",
   "metadata": {},
   "outputs": [],
   "source": [
    "def GPU_check():\n",
    "    if torch.cuda.is_available():\n",
    "        \n",
    "        nGPU = torch.cuda.device_count()\n",
    "        print(\"Number of GPU: \",nGPU)\n",
    "        \n",
    "        for i,j in enumerate(range(nGPU)):\n",
    "            print(\"Device\",i,torch.cuda.get_device_name(i))\n",
    "    else:\n",
    "        print(\"There is no GPU detected\")"
   ]
  },
  {
   "cell_type": "code",
   "execution_count": 13,
   "id": "3e46fa99-a201-42d1-b50f-77b7681b3d3e",
   "metadata": {},
   "outputs": [
    {
     "name": "stdout",
     "output_type": "stream",
     "text": [
      "Number of GPU:  1\n",
      "Device 0 NVIDIA GeForce GTX 1660 SUPER\n"
     ]
    }
   ],
   "source": [
    "GPU_check()"
   ]
  },
  {
   "cell_type": "code",
   "execution_count": 15,
   "id": "b7062935-62f3-4614-aaf6-fddba001275a",
   "metadata": {},
   "outputs": [],
   "source": [
    "#device = torch.device('cpu')\n",
    "device = torch.device('cuda')"
   ]
  },
  {
   "cell_type": "code",
   "execution_count": 17,
   "id": "ebcfd948-2f95-462c-b66e-198712a30534",
   "metadata": {},
   "outputs": [],
   "source": [
    "x = torch.tensor([1., 2.]).to(device)"
   ]
  },
  {
   "cell_type": "code",
   "execution_count": 18,
   "id": "6fcae011-8075-4a21-b4b3-b9d010277485",
   "metadata": {},
   "outputs": [
    {
     "name": "stdout",
     "output_type": "stream",
     "text": [
      "cuda:0\n"
     ]
    }
   ],
   "source": [
    "print(x.device)"
   ]
  },
  {
   "cell_type": "code",
   "execution_count": null,
   "id": "ae1eaab9-cd95-4649-8d04-721634649037",
   "metadata": {},
   "outputs": [],
   "source": []
  }
 ],
 "metadata": {
  "kernelspec": {
   "display_name": "Python 3",
   "language": "python",
   "name": "python3"
  },
  "language_info": {
   "codemirror_mode": {
    "name": "ipython",
    "version": 3
   },
   "file_extension": ".py",
   "mimetype": "text/x-python",
   "name": "python",
   "nbconvert_exporter": "python",
   "pygments_lexer": "ipython3",
   "version": "3.8.8"
  }
 },
 "nbformat": 4,
 "nbformat_minor": 5
}
